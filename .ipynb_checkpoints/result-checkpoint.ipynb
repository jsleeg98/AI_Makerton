{
 "cells": [
  {
   "cell_type": "markdown",
   "metadata": {},
   "source": [
    "# 결과 출력하기"
   ]
  },
  {
   "cell_type": "markdown",
   "metadata": {},
   "source": [
    "## 1. 현재 위치 확인"
   ]
  },
  {
   "cell_type": "code",
   "execution_count": 19,
   "metadata": {},
   "outputs": [
    {
     "data": {
      "text/plain": [
       "'/home/twopiece/src/yolov5-face'"
      ]
     },
     "execution_count": 19,
     "metadata": {},
     "output_type": "execute_result"
    }
   ],
   "source": [
    "%pwd"
   ]
  },
  {
   "cell_type": "markdown",
   "metadata": {},
   "source": [
    "## 2. yolov5로 위치 변경"
   ]
  },
  {
   "cell_type": "code",
   "execution_count": 21,
   "metadata": {},
   "outputs": [
    {
     "name": "stdout",
     "output_type": "stream",
     "text": [
      "/home/twopiece/src/yolov5\n"
     ]
    }
   ],
   "source": [
    "%cd src/yolov5"
   ]
  },
  {
   "cell_type": "markdown",
   "metadata": {},
   "source": [
    "## 3. detect.py 실행하여 제출할 txt 파일 만들기"
   ]
  },
  {
   "cell_type": "markdown",
   "metadata": {},
   "source": [
    "- weight 파일 경로 detect.py에서 default로 설정해놓기\n",
    "    - img 크기 416 default 설정 완료\n",
    "    - iou-thres 0.5 default 설정 완료\n",
    "    - save-txt, save-conf true default 설정 완료\n",
    "    - name default 설정 수정필요\n",
    "- source 파일 경로 설정 방법 적기 \n"
   ]
  },
  {
   "cell_type": "code",
   "execution_count": 34,
   "metadata": {},
   "outputs": [
    {
     "name": "stdout",
     "output_type": "stream",
     "text": [
      "\u001b[34m\u001b[1mdetect: \u001b[0mweights=['yolov5x.pt', '/home/twopiece/src/yolov5/runs/train/helmat_yolov5x_result/weights/best.pt'], source=/home/twopiece/datasets_rw/dataset/AI_dataset/images/hard_hat_workers1358.png, imgsz=[416, 416], conf_thres=0.25, iou_thres=0.5, max_det=1000, device=, view_img=False, save_txt=True, save_conf=True, save_crop=False, nosave=False, classes=None, agnostic_nms=False, augment=False, visualize=False, update=False, project=runs/detect, name=final_result, exist_ok=False, line_thickness=3, hide_labels=False, hide_conf=False, half=False\n",
      "YOLOv5 🚀 v5.0-499-g48b00db torch 1.7.1+cu110 CUDA:0 (A100-SXM4-40GB MIG 2g.10gb, 9984.0MB)\n",
      "\n",
      "Fusing layers... \n",
      "Model Summary: 476 layers, 87730285 parameters, 0 gradients\n",
      "Fusing layers... \n",
      "Model Summary: 476 layers, 87205423 parameters, 0 gradients, 217.1 GFLOPs\n",
      "Ensemble created with ['yolov5x.pt', '/home/twopiece/src/yolov5/runs/train/helmat_yolov5x_result/weights/best.pt']\n",
      "\n",
      "Traceback (most recent call last):\n",
      "  File \"detect.py\", line 303, in <module>\n",
      "    main(opt)\n",
      "  File \"detect.py\", line 298, in main\n",
      "    run(**vars(opt))\n",
      "  File \"/usr/local/lib/python3.6/dist-packages/torch/autograd/grad_mode.py\", line 26, in decorate_context\n",
      "    return func(*args, **kwargs)\n",
      "  File \"detect.py\", line 127, in run\n",
      "    model(torch.zeros(1, 3, *imgsz).to(device).type_as(next(model.parameters())))  # run once\n",
      "  File \"/usr/local/lib/python3.6/dist-packages/torch/nn/modules/module.py\", line 727, in _call_impl\n",
      "    result = self.forward(*input, **kwargs)\n",
      "  File \"/home/twopiece/src/yolov5/models/experimental.py\", line 84, in forward\n",
      "    y = torch.cat(y, 1)  # nms ensemble\n",
      "RuntimeError: Sizes of tensors must match except in dimension 2. Got 7 and 85 (The offending index is 0)\n"
     ]
    }
   ],
   "source": [
    "!python detect.py --source /home/twopiece/datasets_rw/dataset/AI_dataset/images/hard_hat_workers1358.png --weight /home/twopiece/src/yolov5/runs/train/helmat_yolov5x_result/weights/best.pt "
   ]
  },
  {
   "cell_type": "code",
   "execution_count": null,
   "metadata": {},
   "outputs": [],
   "source": []
  }
 ],
 "metadata": {
  "kernelspec": {
   "display_name": "Python 3",
   "language": "python",
   "name": "python3"
  },
  "language_info": {
   "codemirror_mode": {
    "name": "ipython",
    "version": 3
   },
   "file_extension": ".py",
   "mimetype": "text/x-python",
   "name": "python",
   "nbconvert_exporter": "python",
   "pygments_lexer": "ipython3",
   "version": "3.6.9"
  }
 },
 "nbformat": 4,
 "nbformat_minor": 4
}
