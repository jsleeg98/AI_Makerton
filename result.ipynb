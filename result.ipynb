{
 "cells": [
  {
   "cell_type": "markdown",
   "metadata": {},
   "source": [
    "# 결과 코드 실행 방법"
   ]
  },
  {
   "cell_type": "markdown",
   "metadata": {},
   "source": [
    "## 1. 현재 위치 확인"
   ]
  },
  {
   "cell_type": "code",
   "execution_count": 38,
   "metadata": {},
   "outputs": [
    {
     "data": {
      "text/plain": [
       "'/home/twopiece/src/yolov5'"
      ]
     },
     "execution_count": 38,
     "metadata": {},
     "output_type": "execute_result"
    }
   ],
   "source": [
    "%pwd"
   ]
  },
  {
   "cell_type": "markdown",
   "metadata": {},
   "source": [
    "## 2. yolov5로 위치 변경"
   ]
  },
  {
   "cell_type": "code",
   "execution_count": 3,
   "metadata": {},
   "outputs": [
    {
     "name": "stdout",
     "output_type": "stream",
     "text": [
      "/home/twopiece/src/yolov5\n"
     ]
    }
   ],
   "source": [
    "%cd yolov5"
   ]
  },
  {
   "cell_type": "markdown",
   "metadata": {},
   "source": [
    "## 3. val.py 실행하여 예측 결과와 제출 txt 파일 만들기\n",
    "* yolov5/runs/val/labels에 txt 파일이 저장된다.\n",
    "* --data에 yaml 파일을 설정하면 된다.\n",
    "* 실행하면 yolov5/runs/val/에 result로 결과가 출력된 것을 확인할 수 있다."
   ]
  },
  {
   "cell_type": "code",
   "execution_count": 39,
   "metadata": {},
   "outputs": [
    {
     "name": "stdout",
     "output_type": "stream",
     "text": [
      "\u001b[34m\u001b[1mval: \u001b[0mdata=/home/twopiece/datasets_rw/final-dataset/data.yaml, weights=yolov5x_trained_best.pt, batch_size=32, imgsz=416, conf_thres=0.001, iou_thres=0.6, task=val, device=, single_cls=False, augment=False, verbose=False, save_txt=True, save_hybrid=False, save_conf=True, save_json=False, project=runs/val, name=result , exist_ok=False, half=False\n",
      "YOLOv5 🚀 v5.0-507-g4cf7d48 torch 1.7.1+cu110 CUDA:0 (A100-SXM4-40GB MIG 2g.10gb, 9984.0MB)\n",
      "\n",
      "Fusing layers... \n",
      "Model Summary: 476 layers, 87205423 parameters, 0 gradients, 217.1 GFLOPs\n",
      "\u001b[34m\u001b[1mval: \u001b[0mScanning '/home/twopiece/datasets_rw/final-dataset/val.cache' images and la\u001b[0m\n",
      "               Class     Images     Labels          P          R     mAP@.5 mAP@\n",
      "                 all        977       2972      0.995      0.987      0.995       0.86\n",
      "              helmat        977       1930      0.996      0.989      0.995      0.874\n",
      "                head        977       1042      0.993      0.985      0.995      0.846\n",
      "Speed: 0.1ms pre-process, 23.1ms inference, 1.5ms NMS per image at shape (32, 3, 416, 416)\n",
      "Results saved to \u001b[1mruns/val/result \u001b[0m\n",
      "977 labels saved to runs/val/result /labels\n"
     ]
    }
   ],
   "source": [
    "!python val.py --data /home/twopiece/datasets_rw/final-dataset/data.yaml "
   ]
  },
  {
   "cell_type": "code",
   "execution_count": null,
   "metadata": {},
   "outputs": [],
   "source": []
  }
 ],
 "metadata": {
  "kernelspec": {
   "display_name": "Python 3",
   "language": "python",
   "name": "python3"
  },
  "language_info": {
   "codemirror_mode": {
    "name": "ipython",
    "version": 3
   },
   "file_extension": ".py",
   "mimetype": "text/x-python",
   "name": "python",
   "nbconvert_exporter": "python",
   "pygments_lexer": "ipython3",
   "version": "3.6.9"
  }
 },
 "nbformat": 4,
 "nbformat_minor": 4
}
