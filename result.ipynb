{
 "cells": [
  {
   "cell_type": "markdown",
   "metadata": {},
   "source": [
    "# 결과 출력하기"
   ]
  },
  {
   "cell_type": "markdown",
   "metadata": {},
   "source": [
    "## 1. 현재 위치 확인"
   ]
  },
  {
   "cell_type": "code",
   "execution_count": 18,
   "metadata": {},
   "outputs": [
    {
     "data": {
      "text/plain": [
       "'/home/twopiece/src/yolov5'"
      ]
     },
     "execution_count": 18,
     "metadata": {},
     "output_type": "execute_result"
    }
   ],
   "source": [
    "%pwd"
   ]
  },
  {
   "cell_type": "markdown",
   "metadata": {},
   "source": [
    "## 2. yolov5로 위치 변경"
   ]
  },
  {
   "cell_type": "code",
   "execution_count": 3,
   "metadata": {},
   "outputs": [
    {
     "name": "stdout",
     "output_type": "stream",
     "text": [
      "/home/twopiece/src/yolov5\n"
     ]
    }
   ],
   "source": [
    "%cd yolov5"
   ]
  },
  {
   "cell_type": "markdown",
   "metadata": {},
   "source": [
    "## 3. detect.py 실행하여 제출할 txt 파일 만들기"
   ]
  },
  {
   "cell_type": "markdown",
   "metadata": {},
   "source": [
    "- weight 파일 경로 detect.py에서 default로 설정해놓기\n",
    "    - img 크기 416 default 설정 완료\n",
    "    - iou-thres 0.5 default 설정 완료\n",
    "    - save-txt, save-conf true default 설정 완료\n",
    "    - name default 설정 수정필요\n",
    "- source 파일 경로 설정 방법 적기 \n"
   ]
  },
  {
   "cell_type": "code",
   "execution_count": 20,
   "metadata": {},
   "outputs": [
    {
     "name": "stdout",
     "output_type": "stream",
     "text": [
      "\u001b[34m\u001b[1mdetect: \u001b[0mweights=['/home/twopiece/src/yolov5/runs/train/result_yolov5x/weights/best.pt'], source=/home/twopiece/datasets_rw/detect-test-2, imgsz=[416, 416], conf_thres=0.25, iou_thres=0.45, max_det=1000, device=, view_img=False, save_txt=True, save_conf=True, save_crop=False, nosave=False, classes=None, agnostic_nms=False, augment=False, visualize=False, update=False, project=runs/detect, name=exp, exist_ok=False, line_thickness=3, hide_labels=False, hide_conf=False, half=False\n",
      "YOLOv5 🚀 v5.0-507-g4cf7d48 torch 1.7.1+cu110 CUDA:0 (A100-SXM4-40GB MIG 2g.10gb, 9984.0MB)\n",
      "\n",
      "Fusing layers... \n",
      "Model Summary: 476 layers, 87205423 parameters, 0 gradients, 217.1 GFLOPs\n",
      "image 1/22 /home/twopiece/datasets_rw/detect-test-2/BikesHelmets254.png: 416x416 2 helmats, Done. (0.028s)\n",
      "image 2/22 /home/twopiece/datasets_rw/detect-test-2/BikesHelmets383.png: 416x416 2 heads, Done. (0.028s)\n",
      "image 3/22 /home/twopiece/datasets_rw/detect-test-2/BikesHelmets41.png: 320x416 1 helmat, 1 head, Done. (0.026s)\n",
      "image 4/22 /home/twopiece/datasets_rw/detect-test-2/BikesHelmets417.png: 288x416 1 head, Done. (0.034s)\n",
      "image 5/22 /home/twopiece/datasets_rw/detect-test-2/BikesHelmets439.png: 256x416 9 helmats, 2 heads, Done. (0.031s)\n",
      "image 6/22 /home/twopiece/datasets_rw/detect-test-2/BikesHelmets47.png: 288x416 4 heads, Done. (0.033s)\n",
      "image 7/22 /home/twopiece/datasets_rw/detect-test-2/BikesHelmets674.png: 352x416 2 helmats, Done. (0.027s)\n",
      "image 8/22 /home/twopiece/datasets_rw/detect-test-2/hard_hat_workers1535.png: 416x416 7 helmats, 2 heads, Done. (0.029s)\n",
      "image 9/22 /home/twopiece/datasets_rw/detect-test-2/hard_hat_workers1537.png: 416x416 1 helmat, 7 heads, Done. (0.028s)\n",
      "image 10/22 /home/twopiece/datasets_rw/detect-test-2/hard_hat_workers1542.png: 416x416 4 helmats, Done. (0.028s)\n",
      "image 11/22 /home/twopiece/datasets_rw/detect-test-2/hard_hat_workers1545.png: 416x416 2 helmats, Done. (0.028s)\n",
      "image 12/22 /home/twopiece/datasets_rw/detect-test-2/hard_hat_workers1562.png: 416x416 5 helmats, Done. (0.028s)\n",
      "image 13/22 /home/twopiece/datasets_rw/detect-test-2/hard_hat_workers1564.png: 416x416 4 helmats, Done. (0.028s)\n",
      "image 14/22 /home/twopiece/datasets_rw/detect-test-2/hard_hat_workers1604.png: 416x416 5 helmats, 6 heads, Done. (0.028s)\n",
      "image 15/22 /home/twopiece/datasets_rw/detect-test-2/hard_hat_workers1688.png: 416x416 4 helmats, Done. (0.028s)\n",
      "image 16/22 /home/twopiece/datasets_rw/detect-test-2/hard_hat_workers1773.png: 416x416 5 heads, Done. (0.028s)\n",
      "image 17/22 /home/twopiece/datasets_rw/detect-test-2/hard_hat_workers1913.png: 416x416 1 helmat, Done. (0.028s)\n",
      "image 18/22 /home/twopiece/datasets_rw/detect-test-2/hard_hat_workers1919.png: 416x416 1 helmat, 3 heads, Done. (0.028s)\n",
      "image 19/22 /home/twopiece/datasets_rw/detect-test-2/hard_hat_workers2013.png: 416x416 3 helmats, Done. (0.028s)\n",
      "image 20/22 /home/twopiece/datasets_rw/detect-test-2/hard_hat_workers2071.png: 416x416 7 helmats, Done. (0.028s)\n",
      "image 21/22 /home/twopiece/datasets_rw/detect-test-2/hard_hat_workers2152.png: 416x416 12 helmats, Done. (0.028s)\n",
      "image 22/22 /home/twopiece/datasets_rw/detect-test-2/hard_hat_workers2326.png: 416x416 5 helmats, Done. (0.028s)\n",
      "Speed: 0.2ms pre-process, 28.6ms inference, 1.1ms NMS per image at shape (1, 3, 416, 416)\n",
      "Results saved to \u001b[1mruns/detect/exp8\u001b[0m\n",
      "22 labels saved to runs/detect/exp8/labels\n"
     ]
    }
   ],
   "source": [
    "!python detect.py --img 416 --source /home/twopiece/datasets_rw/detect-test-2 --weight /home/twopiece/src/yolov5/runs/train/result_yolov5x/weights/best.pt"
   ]
  },
  {
   "cell_type": "markdown",
   "metadata": {},
   "source": [
    "!python detect.py --img 416 --source /home/twopiece/datasets_rw/kaggle-helmet/images --weight /home/twopiece/src/yolov5/runs/train/result_yolov5/weights/best.pt"
   ]
  },
  {
   "cell_type": "code",
   "execution_count": 10,
   "metadata": {},
   "outputs": [
    {
     "name": "stdout",
     "output_type": "stream",
     "text": [
      "Tue Oct 12 07:24:10 2021       \n",
      "+-----------------------------------------------------------------------------+\n",
      "| NVIDIA-SMI 460.91.03    Driver Version: 460.91.03    CUDA Version: 11.2     |\n",
      "|-------------------------------+----------------------+----------------------+\n",
      "| GPU  Name        Persistence-M| Bus-Id        Disp.A | Volatile Uncorr. ECC |\n",
      "| Fan  Temp  Perf  Pwr:Usage/Cap|         Memory-Usage | GPU-Util  Compute M. |\n",
      "|                               |                      |               MIG M. |\n",
      "|===============================+======================+======================|\n",
      "|   0  A100-SXM4-40GB      Off  | 00000000:90:00.0 Off |                   On |\n",
      "| N/A   32C    P0    66W / 400W |                  N/A |     N/A      Default |\n",
      "|                               |                      |              Enabled |\n",
      "+-------------------------------+----------------------+----------------------+\n",
      "\n",
      "+-----------------------------------------------------------------------------+\n",
      "| MIG devices:                                                                |\n",
      "+------------------+----------------------+-----------+-----------------------+\n",
      "| GPU  GI  CI  MIG |         Memory-Usage |        Vol|         Shared        |\n",
      "|      ID  ID  Dev |           BAR1-Usage | SM     Unc| CE  ENC  DEC  OFA  JPG|\n",
      "|                  |                      |        ECC|                       |\n",
      "|==================+======================+===========+=======================|\n",
      "|  0    5   0   0  |      3MiB /  9984MiB | 28      0 |  2   0    1    0    0 |\n",
      "|                  |      0MiB / 16383MiB |           |                       |\n",
      "+------------------+----------------------+-----------+-----------------------+\n",
      "                                                                               \n",
      "+-----------------------------------------------------------------------------+\n",
      "| Processes:                                                                  |\n",
      "|  GPU   GI   CI        PID   Type   Process name                  GPU Memory |\n",
      "|        ID   ID                                                   Usage      |\n",
      "|=============================================================================|\n",
      "|  No running processes found                                                 |\n",
      "+-----------------------------------------------------------------------------+\n"
     ]
    }
   ],
   "source": [
    "!nvidia-smi"
   ]
  },
  {
   "cell_type": "code",
   "execution_count": null,
   "metadata": {},
   "outputs": [],
   "source": []
  }
 ],
 "metadata": {
  "kernelspec": {
   "display_name": "Python 3",
   "language": "python",
   "name": "python3"
  },
  "language_info": {
   "codemirror_mode": {
    "name": "ipython",
    "version": 3
   },
   "file_extension": ".py",
   "mimetype": "text/x-python",
   "name": "python",
   "nbconvert_exporter": "python",
   "pygments_lexer": "ipython3",
   "version": "3.6.9"
  }
 },
 "nbformat": 4,
 "nbformat_minor": 4
}
