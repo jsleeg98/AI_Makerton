{
 "cells": [
  {
   "cell_type": "code",
   "execution_count": 2,
   "metadata": {},
   "outputs": [
    {
     "data": {
      "text/plain": [
       "'/home/twopiece/src'"
      ]
     },
     "execution_count": 2,
     "metadata": {},
     "output_type": "execute_result"
    }
   ],
   "source": [
    "%pwd"
   ]
  },
  {
   "cell_type": "code",
   "execution_count": 3,
   "metadata": {},
   "outputs": [
    {
     "name": "stdout",
     "output_type": "stream",
     "text": [
      "/home/twopiece/src/yolov5\n"
     ]
    }
   ],
   "source": [
    "%cd yolov5"
   ]
  },
  {
   "cell_type": "markdown",
   "metadata": {},
   "source": [
    "# 앙상블 detect.py"
   ]
  },
  {
   "cell_type": "code",
   "execution_count": 5,
   "metadata": {},
   "outputs": [
    {
     "name": "stdout",
     "output_type": "stream",
     "text": [
      "\u001b[34m\u001b[1mdetect: \u001b[0mweights=['yolov5x_best.pt', 'yolov5l_best.pt'], source=/home/twopiece/datasets_rw/detect-test-2, imgsz=[416, 416], conf_thres=0.25, iou_thres=0.45, max_det=1000, device=, view_img=False, save_txt=True, save_conf=True, save_crop=False, nosave=False, classes=None, agnostic_nms=False, augment=False, visualize=False, update=False, project=runs/detect, name=exp, exist_ok=False, line_thickness=3, hide_labels=False, hide_conf=False, half=False\n",
      "YOLOv5 🚀 v5.0-507-g4cf7d48 torch 1.7.1+cu110 CUDA:0 (A100-SXM4-40GB MIG 2g.10gb, 9984.0MB)\n",
      "\n",
      "Fusing layers... \n",
      "Model Summary: 476 layers, 87205423 parameters, 0 gradients, 217.1 GFLOPs\n",
      "Fusing layers... \n",
      "Model Summary: 367 layers, 46113663 parameters, 0 gradients, 107.8 GFLOPs\n",
      "Ensemble created with ['yolov5x_best.pt', 'yolov5l_best.pt']\n",
      "\n",
      "image 1/22 /home/twopiece/datasets_rw/detect-test-2/BikesHelmets254.png: 416x416 2 helmats, 1 head, Done. (0.046s)\n",
      "image 2/22 /home/twopiece/datasets_rw/detect-test-2/BikesHelmets383.png: 416x416 2 heads, Done. (0.046s)\n",
      "image 3/22 /home/twopiece/datasets_rw/detect-test-2/BikesHelmets41.png: 320x416 1 helmat, 2 heads, Done. (0.051s)\n",
      "image 4/22 /home/twopiece/datasets_rw/detect-test-2/BikesHelmets417.png: 288x416 1 head, Done. (0.054s)\n",
      "image 5/22 /home/twopiece/datasets_rw/detect-test-2/BikesHelmets439.png: 256x416 9 helmats, 6 heads, Done. (0.052s)\n",
      "image 6/22 /home/twopiece/datasets_rw/detect-test-2/BikesHelmets47.png: 288x416 4 heads, Done. (0.052s)\n",
      "image 7/22 /home/twopiece/datasets_rw/detect-test-2/BikesHelmets674.png: 352x416 2 helmats, 1 head, Done. (0.044s)\n",
      "image 8/22 /home/twopiece/datasets_rw/detect-test-2/hard_hat_workers1535.png: 416x416 7 helmats, 2 heads, Done. (0.048s)\n",
      "image 9/22 /home/twopiece/datasets_rw/detect-test-2/hard_hat_workers1537.png: 416x416 1 helmat, 7 heads, Done. (0.047s)\n",
      "image 10/22 /home/twopiece/datasets_rw/detect-test-2/hard_hat_workers1542.png: 416x416 4 helmats, Done. (0.046s)\n",
      "image 11/22 /home/twopiece/datasets_rw/detect-test-2/hard_hat_workers1545.png: 416x416 2 helmats, Done. (0.046s)\n",
      "image 12/22 /home/twopiece/datasets_rw/detect-test-2/hard_hat_workers1562.png: 416x416 5 helmats, Done. (0.046s)\n",
      "image 13/22 /home/twopiece/datasets_rw/detect-test-2/hard_hat_workers1564.png: 416x416 4 helmats, 1 head, Done. (0.047s)\n",
      "image 14/22 /home/twopiece/datasets_rw/detect-test-2/hard_hat_workers1604.png: 416x416 6 helmats, 7 heads, Done. (0.046s)\n",
      "image 15/22 /home/twopiece/datasets_rw/detect-test-2/hard_hat_workers1688.png: 416x416 4 helmats, Done. (0.046s)\n",
      "image 16/22 /home/twopiece/datasets_rw/detect-test-2/hard_hat_workers1773.png: 416x416 5 heads, Done. (0.046s)\n",
      "image 17/22 /home/twopiece/datasets_rw/detect-test-2/hard_hat_workers1913.png: 416x416 1 helmat, Done. (0.046s)\n",
      "image 18/22 /home/twopiece/datasets_rw/detect-test-2/hard_hat_workers1919.png: 416x416 1 helmat, 4 heads, Done. (0.046s)\n",
      "image 19/22 /home/twopiece/datasets_rw/detect-test-2/hard_hat_workers2013.png: 416x416 4 helmats, Done. (0.046s)\n",
      "image 20/22 /home/twopiece/datasets_rw/detect-test-2/hard_hat_workers2071.png: 416x416 7 helmats, Done. (0.046s)\n",
      "image 21/22 /home/twopiece/datasets_rw/detect-test-2/hard_hat_workers2152.png: 416x416 19 helmats, Done. (0.046s)\n",
      "image 22/22 /home/twopiece/datasets_rw/detect-test-2/hard_hat_workers2326.png: 416x416 5 helmats, Done. (0.047s)\n",
      "Speed: 0.2ms pre-process, 47.4ms inference, 1.2ms NMS per image at shape (1, 3, 416, 416)\n",
      "Results saved to \u001b[1mruns/detect/exp10\u001b[0m\n",
      "22 labels saved to runs/detect/exp10/labels\n"
     ]
    }
   ],
   "source": [
    "!python detect.py --weights yolov5x_best.pt yolov5l_best.pt --img 416 --source  /home/twopiece/datasets_rw/detect-test-2"
   ]
  },
  {
   "cell_type": "code",
   "execution_count": null,
   "metadata": {},
   "outputs": [],
   "source": []
  }
 ],
 "metadata": {
  "kernelspec": {
   "display_name": "Python 3",
   "language": "python",
   "name": "python3"
  },
  "language_info": {
   "codemirror_mode": {
    "name": "ipython",
    "version": 3
   },
   "file_extension": ".py",
   "mimetype": "text/x-python",
   "name": "python",
   "nbconvert_exporter": "python",
   "pygments_lexer": "ipython3",
   "version": "3.6.9"
  }
 },
 "nbformat": 4,
 "nbformat_minor": 4
}
